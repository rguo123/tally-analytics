{
 "cells": [
  {
   "cell_type": "code",
   "execution_count": 1,
   "metadata": {},
   "outputs": [],
   "source": [
    "import numpy as np\n",
    "from matplotlib import pyplot as plt\n",
    "import seaborn as sns\n",
    "import pandas as pd\n",
    "import gensim\n",
    "%matplotlib inline"
   ]
  },
  {
   "cell_type": "markdown",
   "metadata": {},
   "source": [
    "# Exploratory Data Analysis + Word2Vec\n",
    "This notebook we will be exploring the Kaggle online jobs description dataset.\n",
    "Our overall purpose is to find entities that describe job requirements and responsibilies.\n",
    "\n",
    "We are also going to test out a very naive Word2Vec just as a tutorial (learning this for first time too)."
   ]
  },
  {
   "cell_type": "code",
   "execution_count": 2,
   "metadata": {},
   "outputs": [
    {
     "name": "stdout",
     "output_type": "stream",
     "text": [
      "19001\n"
     ]
    }
   ],
   "source": [
    "df = pd.read_csv('data/data job posts.csv')\n",
    "print(len(df))"
   ]
  },
  {
   "cell_type": "code",
   "execution_count": 3,
   "metadata": {},
   "outputs": [
    {
     "data": {
      "text/html": [
       "<div>\n",
       "<style scoped>\n",
       "    .dataframe tbody tr th:only-of-type {\n",
       "        vertical-align: middle;\n",
       "    }\n",
       "\n",
       "    .dataframe tbody tr th {\n",
       "        vertical-align: top;\n",
       "    }\n",
       "\n",
       "    .dataframe thead th {\n",
       "        text-align: right;\n",
       "    }\n",
       "</style>\n",
       "<table border=\"1\" class=\"dataframe\">\n",
       "  <thead>\n",
       "    <tr style=\"text-align: right;\">\n",
       "      <th></th>\n",
       "      <th>jobpost</th>\n",
       "      <th>date</th>\n",
       "      <th>Title</th>\n",
       "      <th>Company</th>\n",
       "      <th>AnnouncementCode</th>\n",
       "      <th>Term</th>\n",
       "      <th>Eligibility</th>\n",
       "      <th>Audience</th>\n",
       "      <th>StartDate</th>\n",
       "      <th>Duration</th>\n",
       "      <th>...</th>\n",
       "      <th>Salary</th>\n",
       "      <th>ApplicationP</th>\n",
       "      <th>OpeningDate</th>\n",
       "      <th>Deadline</th>\n",
       "      <th>Notes</th>\n",
       "      <th>AboutC</th>\n",
       "      <th>Attach</th>\n",
       "      <th>Year</th>\n",
       "      <th>Month</th>\n",
       "      <th>IT</th>\n",
       "    </tr>\n",
       "  </thead>\n",
       "  <tbody>\n",
       "    <tr>\n",
       "      <th>0</th>\n",
       "      <td>AMERIA Investment Consulting Company\\r\\nJOB TI...</td>\n",
       "      <td>Jan 5, 2004</td>\n",
       "      <td>Chief Financial Officer</td>\n",
       "      <td>AMERIA Investment Consulting Company</td>\n",
       "      <td>NaN</td>\n",
       "      <td>NaN</td>\n",
       "      <td>NaN</td>\n",
       "      <td>NaN</td>\n",
       "      <td>NaN</td>\n",
       "      <td>NaN</td>\n",
       "      <td>...</td>\n",
       "      <td>NaN</td>\n",
       "      <td>To apply for this position, please submit a\\r\\...</td>\n",
       "      <td>NaN</td>\n",
       "      <td>26 January 2004</td>\n",
       "      <td>NaN</td>\n",
       "      <td>NaN</td>\n",
       "      <td>NaN</td>\n",
       "      <td>2004</td>\n",
       "      <td>1</td>\n",
       "      <td>False</td>\n",
       "    </tr>\n",
       "    <tr>\n",
       "      <th>1</th>\n",
       "      <td>International Research &amp; Exchanges Board (IREX...</td>\n",
       "      <td>Jan 7, 2004</td>\n",
       "      <td>Full-time Community Connections Intern (paid i...</td>\n",
       "      <td>International Research &amp; Exchanges Board (IREX)</td>\n",
       "      <td>NaN</td>\n",
       "      <td>NaN</td>\n",
       "      <td>NaN</td>\n",
       "      <td>NaN</td>\n",
       "      <td>NaN</td>\n",
       "      <td>3 months</td>\n",
       "      <td>...</td>\n",
       "      <td>NaN</td>\n",
       "      <td>Please submit a cover letter and resume to:\\r\\...</td>\n",
       "      <td>NaN</td>\n",
       "      <td>12 January 2004</td>\n",
       "      <td>NaN</td>\n",
       "      <td>The International Research &amp; Exchanges Board (...</td>\n",
       "      <td>NaN</td>\n",
       "      <td>2004</td>\n",
       "      <td>1</td>\n",
       "      <td>False</td>\n",
       "    </tr>\n",
       "    <tr>\n",
       "      <th>2</th>\n",
       "      <td>Caucasus Environmental NGO Network (CENN)\\r\\nJ...</td>\n",
       "      <td>Jan 7, 2004</td>\n",
       "      <td>Country Coordinator</td>\n",
       "      <td>Caucasus Environmental NGO Network (CENN)</td>\n",
       "      <td>NaN</td>\n",
       "      <td>NaN</td>\n",
       "      <td>NaN</td>\n",
       "      <td>NaN</td>\n",
       "      <td>NaN</td>\n",
       "      <td>Renewable annual contract\\r\\nPOSITION</td>\n",
       "      <td>...</td>\n",
       "      <td>NaN</td>\n",
       "      <td>Please send resume or CV toursula.kazarian@......</td>\n",
       "      <td>NaN</td>\n",
       "      <td>20 January 2004\\r\\nSTART DATE:  February 2004</td>\n",
       "      <td>NaN</td>\n",
       "      <td>The Caucasus Environmental NGO Network is a\\r\\...</td>\n",
       "      <td>NaN</td>\n",
       "      <td>2004</td>\n",
       "      <td>1</td>\n",
       "      <td>False</td>\n",
       "    </tr>\n",
       "    <tr>\n",
       "      <th>3</th>\n",
       "      <td>Manoff Group\\r\\nJOB TITLE:  BCC Specialist\\r\\n...</td>\n",
       "      <td>Jan 7, 2004</td>\n",
       "      <td>BCC Specialist</td>\n",
       "      <td>Manoff Group</td>\n",
       "      <td>NaN</td>\n",
       "      <td>NaN</td>\n",
       "      <td>NaN</td>\n",
       "      <td>NaN</td>\n",
       "      <td>NaN</td>\n",
       "      <td>NaN</td>\n",
       "      <td>...</td>\n",
       "      <td>NaN</td>\n",
       "      <td>Please send cover letter and resume to Amy\\r\\n...</td>\n",
       "      <td>NaN</td>\n",
       "      <td>23 January 2004\\r\\nSTART DATE:  Immediate</td>\n",
       "      <td>NaN</td>\n",
       "      <td>NaN</td>\n",
       "      <td>NaN</td>\n",
       "      <td>2004</td>\n",
       "      <td>1</td>\n",
       "      <td>False</td>\n",
       "    </tr>\n",
       "    <tr>\n",
       "      <th>4</th>\n",
       "      <td>Yerevan Brandy Company\\r\\nJOB TITLE:  Software...</td>\n",
       "      <td>Jan 10, 2004</td>\n",
       "      <td>Software Developer</td>\n",
       "      <td>Yerevan Brandy Company</td>\n",
       "      <td>NaN</td>\n",
       "      <td>NaN</td>\n",
       "      <td>NaN</td>\n",
       "      <td>NaN</td>\n",
       "      <td>NaN</td>\n",
       "      <td>NaN</td>\n",
       "      <td>...</td>\n",
       "      <td>NaN</td>\n",
       "      <td>Successful candidates should submit\\r\\n- CV; \\...</td>\n",
       "      <td>NaN</td>\n",
       "      <td>20 January 2004, 18:00</td>\n",
       "      <td>NaN</td>\n",
       "      <td>NaN</td>\n",
       "      <td>NaN</td>\n",
       "      <td>2004</td>\n",
       "      <td>1</td>\n",
       "      <td>True</td>\n",
       "    </tr>\n",
       "  </tbody>\n",
       "</table>\n",
       "<p>5 rows × 24 columns</p>\n",
       "</div>"
      ],
      "text/plain": [
       "                                             jobpost          date  \\\n",
       "0  AMERIA Investment Consulting Company\\r\\nJOB TI...   Jan 5, 2004   \n",
       "1  International Research & Exchanges Board (IREX...   Jan 7, 2004   \n",
       "2  Caucasus Environmental NGO Network (CENN)\\r\\nJ...   Jan 7, 2004   \n",
       "3  Manoff Group\\r\\nJOB TITLE:  BCC Specialist\\r\\n...   Jan 7, 2004   \n",
       "4  Yerevan Brandy Company\\r\\nJOB TITLE:  Software...  Jan 10, 2004   \n",
       "\n",
       "                                               Title  \\\n",
       "0                            Chief Financial Officer   \n",
       "1  Full-time Community Connections Intern (paid i...   \n",
       "2                                Country Coordinator   \n",
       "3                                     BCC Specialist   \n",
       "4                                 Software Developer   \n",
       "\n",
       "                                           Company AnnouncementCode Term  \\\n",
       "0             AMERIA Investment Consulting Company              NaN  NaN   \n",
       "1  International Research & Exchanges Board (IREX)              NaN  NaN   \n",
       "2        Caucasus Environmental NGO Network (CENN)              NaN  NaN   \n",
       "3                                     Manoff Group              NaN  NaN   \n",
       "4                           Yerevan Brandy Company              NaN  NaN   \n",
       "\n",
       "  Eligibility Audience StartDate                               Duration  \\\n",
       "0         NaN      NaN       NaN                                    NaN   \n",
       "1         NaN      NaN       NaN                               3 months   \n",
       "2         NaN      NaN       NaN  Renewable annual contract\\r\\nPOSITION   \n",
       "3         NaN      NaN       NaN                                    NaN   \n",
       "4         NaN      NaN       NaN                                    NaN   \n",
       "\n",
       "   ...   Salary                                       ApplicationP  \\\n",
       "0  ...      NaN  To apply for this position, please submit a\\r\\...   \n",
       "1  ...      NaN  Please submit a cover letter and resume to:\\r\\...   \n",
       "2  ...      NaN  Please send resume or CV toursula.kazarian@......   \n",
       "3  ...      NaN  Please send cover letter and resume to Amy\\r\\n...   \n",
       "4  ...      NaN  Successful candidates should submit\\r\\n- CV; \\...   \n",
       "\n",
       "  OpeningDate                                       Deadline Notes  \\\n",
       "0         NaN                                26 January 2004   NaN   \n",
       "1         NaN                                12 January 2004   NaN   \n",
       "2         NaN  20 January 2004\\r\\nSTART DATE:  February 2004   NaN   \n",
       "3         NaN      23 January 2004\\r\\nSTART DATE:  Immediate   NaN   \n",
       "4         NaN                         20 January 2004, 18:00   NaN   \n",
       "\n",
       "                                              AboutC Attach  Year Month     IT  \n",
       "0                                                NaN    NaN  2004     1  False  \n",
       "1  The International Research & Exchanges Board (...    NaN  2004     1  False  \n",
       "2  The Caucasus Environmental NGO Network is a\\r\\...    NaN  2004     1  False  \n",
       "3                                                NaN    NaN  2004     1  False  \n",
       "4                                                NaN    NaN  2004     1   True  \n",
       "\n",
       "[5 rows x 24 columns]"
      ]
     },
     "execution_count": 3,
     "metadata": {},
     "output_type": "execute_result"
    }
   ],
   "source": [
    "df[:5]"
   ]
  },
  {
   "cell_type": "code",
   "execution_count": 14,
   "metadata": {},
   "outputs": [
    {
     "name": "stdout",
     "output_type": "stream",
     "text": [
      "Index(['jobpost', 'date', 'Title', 'Company', 'AnnouncementCode', 'Term',\n",
      "       'Eligibility', 'Audience', 'StartDate', 'Duration', 'Location',\n",
      "       'JobDescription', 'JobRequirment', 'RequiredQual', 'Salary',\n",
      "       'ApplicationP', 'OpeningDate', 'Deadline', 'Notes', 'AboutC', 'Attach',\n",
      "       'Year', 'Month', 'IT'],\n",
      "      dtype='object')\n"
     ]
    }
   ],
   "source": [
    "print(df.columns)"
   ]
  },
  {
   "cell_type": "markdown",
   "metadata": {},
   "source": [
    "Cool, for a start let's remove everything where JobRequirement or RequiredQual is NaN. There's also an annoying typo for job requirement so we will fix that as well."
   ]
  },
  {
   "cell_type": "code",
   "execution_count": 15,
   "metadata": {},
   "outputs": [],
   "source": [
    "df = df.dropna(how = 'all', subset=['JobRequirment', 'RequiredQual', 'JobDescription']) \n",
    "df.rename(columns={'JobRequirment':'JobRequirement'}, inplace=True)"
   ]
  },
  {
   "cell_type": "code",
   "execution_count": 16,
   "metadata": {},
   "outputs": [
    {
     "data": {
      "text/plain": [
       "0    - Supervises financial management and administ...\n",
       "1                                                  NaN\n",
       "2    - Working with the Country Director to provide...\n",
       "3    - Identify gaps in knowledge and overseeing in...\n",
       "4    - Rendering technical assistance to Database M...\n",
       "Name: JobRequirement, dtype: object"
      ]
     },
     "execution_count": 16,
     "metadata": {},
     "output_type": "execute_result"
    }
   ],
   "source": [
    "df[\"JobRequirement\"][:5]"
   ]
  },
  {
   "cell_type": "markdown",
   "metadata": {},
   "source": [
    "Now, we'll drop all columns we don't care about."
   ]
  },
  {
   "cell_type": "code",
   "execution_count": 17,
   "metadata": {},
   "outputs": [],
   "source": [
    "df = df.drop(columns = ['jobpost', 'date', 'Company', 'AnnouncementCode', 'Term', 'Audience', 'StartDate', 'AboutC', \n",
    "                        'Attach', 'Location', 'Salary', 'ApplicationP', 'ApplicationP', 'OpeningDate', 'Deadline', 'Notes',\n",
    "                        'Year', 'Month', 'IT', 'Duration'])"
   ]
  },
  {
   "cell_type": "code",
   "execution_count": 18,
   "metadata": {},
   "outputs": [
    {
     "data": {
      "text/html": [
       "<div>\n",
       "<style scoped>\n",
       "    .dataframe tbody tr th:only-of-type {\n",
       "        vertical-align: middle;\n",
       "    }\n",
       "\n",
       "    .dataframe tbody tr th {\n",
       "        vertical-align: top;\n",
       "    }\n",
       "\n",
       "    .dataframe thead th {\n",
       "        text-align: right;\n",
       "    }\n",
       "</style>\n",
       "<table border=\"1\" class=\"dataframe\">\n",
       "  <thead>\n",
       "    <tr style=\"text-align: right;\">\n",
       "      <th></th>\n",
       "      <th>Title</th>\n",
       "      <th>Eligibility</th>\n",
       "      <th>JobDescription</th>\n",
       "      <th>JobRequirement</th>\n",
       "      <th>RequiredQual</th>\n",
       "    </tr>\n",
       "  </thead>\n",
       "  <tbody>\n",
       "    <tr>\n",
       "      <th>0</th>\n",
       "      <td>Chief Financial Officer</td>\n",
       "      <td>NaN</td>\n",
       "      <td>AMERIA Investment Consulting Company is seekin...</td>\n",
       "      <td>- Supervises financial management and administ...</td>\n",
       "      <td>To perform this job successfully, an\\r\\nindivi...</td>\n",
       "    </tr>\n",
       "    <tr>\n",
       "      <th>1</th>\n",
       "      <td>Full-time Community Connections Intern (paid i...</td>\n",
       "      <td>NaN</td>\n",
       "      <td>NaN</td>\n",
       "      <td>NaN</td>\n",
       "      <td>- Bachelor's Degree; Master's is preferred;\\r\\...</td>\n",
       "    </tr>\n",
       "    <tr>\n",
       "      <th>2</th>\n",
       "      <td>Country Coordinator</td>\n",
       "      <td>NaN</td>\n",
       "      <td>Public outreach and strengthening of a growing...</td>\n",
       "      <td>- Working with the Country Director to provide...</td>\n",
       "      <td>- Degree in environmentally related field, or ...</td>\n",
       "    </tr>\n",
       "    <tr>\n",
       "      <th>3</th>\n",
       "      <td>BCC Specialist</td>\n",
       "      <td>NaN</td>\n",
       "      <td>The LEAD (Local Enhancement and Development fo...</td>\n",
       "      <td>- Identify gaps in knowledge and overseeing in...</td>\n",
       "      <td>- Advanced degree in public health, social sci...</td>\n",
       "    </tr>\n",
       "    <tr>\n",
       "      <th>4</th>\n",
       "      <td>Software Developer</td>\n",
       "      <td>NaN</td>\n",
       "      <td>NaN</td>\n",
       "      <td>- Rendering technical assistance to Database M...</td>\n",
       "      <td>- University degree; economical background is ...</td>\n",
       "    </tr>\n",
       "  </tbody>\n",
       "</table>\n",
       "</div>"
      ],
      "text/plain": [
       "                                               Title Eligibility  \\\n",
       "0                            Chief Financial Officer         NaN   \n",
       "1  Full-time Community Connections Intern (paid i...         NaN   \n",
       "2                                Country Coordinator         NaN   \n",
       "3                                     BCC Specialist         NaN   \n",
       "4                                 Software Developer         NaN   \n",
       "\n",
       "                                      JobDescription  \\\n",
       "0  AMERIA Investment Consulting Company is seekin...   \n",
       "1                                                NaN   \n",
       "2  Public outreach and strengthening of a growing...   \n",
       "3  The LEAD (Local Enhancement and Development fo...   \n",
       "4                                                NaN   \n",
       "\n",
       "                                      JobRequirement  \\\n",
       "0  - Supervises financial management and administ...   \n",
       "1                                                NaN   \n",
       "2  - Working with the Country Director to provide...   \n",
       "3  - Identify gaps in knowledge and overseeing in...   \n",
       "4  - Rendering technical assistance to Database M...   \n",
       "\n",
       "                                        RequiredQual  \n",
       "0  To perform this job successfully, an\\r\\nindivi...  \n",
       "1  - Bachelor's Degree; Master's is preferred;\\r\\...  \n",
       "2  - Degree in environmentally related field, or ...  \n",
       "3  - Advanced degree in public health, social sci...  \n",
       "4  - University degree; economical background is ...  "
      ]
     },
     "execution_count": 18,
     "metadata": {},
     "output_type": "execute_result"
    }
   ],
   "source": [
    "df[:5]"
   ]
  },
  {
   "cell_type": "code",
   "execution_count": 20,
   "metadata": {},
   "outputs": [
    {
     "data": {
      "text/plain": [
       "0    False\n",
       "1    False\n",
       "2    False\n",
       "3    False\n",
       "4    False\n",
       "Name: Eligibility, dtype: bool"
      ]
     },
     "execution_count": 20,
     "metadata": {},
     "output_type": "execute_result"
    }
   ],
   "source": [
    "df['Eligibility'].notnull()[:5]\n"
   ]
  },
  {
   "cell_type": "code",
   "execution_count": 27,
   "metadata": {},
   "outputs": [
    {
     "data": {
      "text/plain": [
       "\"To perform this job successfully, an\\r\\nindividual must be able to perform each essential duty satisfactorily.\\r\\nThe requirements listed below are representative of the knowledge,\\r\\nskill, and/or ability required.\\r\\nKnowledge of:\\r\\n- Generally accepted accounting principles;\\r\\n- Local accounting standards and legislation;\\r\\n- State reporting requirements pertaining to accounting;\\r\\n- Principles and practices of financial management and budgeting;\\r\\n- Principles and practices of financial systems design and analysis;\\r\\n- Principles and practices of contract management, records management,\\r\\nand risk management;\\r\\n- Principles and practices of management and supervision;\\r\\n- Principles and practices of information systems management.\\r\\nAbility to:\\r\\n- Apply sound fiscal and administrative practices to the company's\\r\\nactivities;\\r\\n- Plan, organize and supervise the work of subordinate employees,\\r\\nincluding training them, assigning and evaluating their work, and\\r\\nproviding job performance feedback;\\r\\n- Critically analyze fiscal and administrative policies, practices,\\r\\nprocedures, and systems, and recommend and implement changes as needed;\\r\\n- Gather and synthesize financial information from a variety of sources\\r\\nand present it to a variety of audiences with differing financial\\r\\nmanagement and analysis expertise;\\r\\n- Prepare detailed, comprehensive financial reports, including\\r\\nexplanatory text;\\r\\n- Operate IBM-compatible personal computer, including word processing,\\r\\nspreadsheet, and database software applications;\\r\\n- Operate specialized software applications that support the financial\\r\\nmanagement and budgeting functions.\\r\\nQualifications:\\r\\n- A minimum of 5-7 years Accounting/ Corporate Finance/ Banking\\r\\nexperience, including a role as a CFO;\\r\\n- Excellent finance and accounting technical skills coupled with a\\r\\ndemonstrated knowledge of all key financial functions in an consulting\\r\\ncompany context - accounting, finance, control, treasury, reserving, and\\r\\nreporting;\\r\\n- Strong financial planning and analytical skills and experience and the\\r\\nability to work closely with and support the CEO and other executives in\\r\\nstrategic development and implementation;\\r\\n- Excellent leadership, management and supervisory track record of\\r\\nattracting, selecting, developing, rewarding and retaining high-caliber,\\r\\naccounting and finance executive and teams who achieve business goals;\\r\\n- An undergraduate degree in finance, business, or other related\\r\\ndiscipline is required. A CPA, CFA, ACCA or other financial\\r\\ncertification is highly preferred, as is a Masters degree in Business\\r\\nAdministration, Accounting or Finance;\\r\\n- Fluency in English, Armenian and Russian with outstanding writing\\r\\nskills;\\r\\n- Excellent analytical, communication, teamwork, interpersonal skills;\\r\\n- Need to be well organized and detail-oriented as well as goal/ result\\r\\ndriven and able to deal with complex issues.\""
      ]
     },
     "execution_count": 27,
     "metadata": {},
     "output_type": "execute_result"
    }
   ],
   "source": [
    "df[\"RequiredQual\"][0]"
   ]
  },
  {
   "cell_type": "markdown",
   "metadata": {},
   "source": [
    "# Word2Vec simple model\n",
    "For now, we are going to just focus on RequiredQual and build a word embedding out of that. We are also going to save this cleaner dataset for now.\n"
   ]
  },
  {
   "cell_type": "code",
   "execution_count": 34,
   "metadata": {},
   "outputs": [],
   "source": [
    "df.to_csv(\"data/job_dataset_4_4.csv\", index=False)"
   ]
  },
  {
   "cell_type": "code",
   "execution_count": 3,
   "metadata": {},
   "outputs": [],
   "source": [
    "# drop NaN required quals\n",
    "df = df.dropna(subset=['RequiredQual']) \n",
    "job_requirements = df[\"RequiredQual\"].tolist()"
   ]
  },
  {
   "cell_type": "code",
   "execution_count": 4,
   "metadata": {},
   "outputs": [
    {
     "data": {
      "text/plain": [
       "\"To perform this job successfully, an\\r\\nindividual must be able to perform each essential duty satisfactorily.\\r\\nThe requirements listed below are representative of the knowledge,\\r\\nskill, and/or ability required.\\r\\nKnowledge of:\\r\\n- Generally accepted accounting principles;\\r\\n- Local accounting standards and legislation;\\r\\n- State reporting requirements pertaining to accounting;\\r\\n- Principles and practices of financial management and budgeting;\\r\\n- Principles and practices of financial systems design and analysis;\\r\\n- Principles and practices of contract management, records management,\\r\\nand risk management;\\r\\n- Principles and practices of management and supervision;\\r\\n- Principles and practices of information systems management.\\r\\nAbility to:\\r\\n- Apply sound fiscal and administrative practices to the company's\\r\\nactivities;\\r\\n- Plan, organize and supervise the work of subordinate employees,\\r\\nincluding training them, assigning and evaluating their work, and\\r\\nproviding job performance feedback;\\r\\n- Critically analyze fiscal and administrative policies, practices,\\r\\nprocedures, and systems, and recommend and implement changes as needed;\\r\\n- Gather and synthesize financial information from a variety of sources\\r\\nand present it to a variety of audiences with differing financial\\r\\nmanagement and analysis expertise;\\r\\n- Prepare detailed, comprehensive financial reports, including\\r\\nexplanatory text;\\r\\n- Operate IBM-compatible personal computer, including word processing,\\r\\nspreadsheet, and database software applications;\\r\\n- Operate specialized software applications that support the financial\\r\\nmanagement and budgeting functions.\\r\\nQualifications:\\r\\n- A minimum of 5-7 years Accounting/ Corporate Finance/ Banking\\r\\nexperience, including a role as a CFO;\\r\\n- Excellent finance and accounting technical skills coupled with a\\r\\ndemonstrated knowledge of all key financial functions in an consulting\\r\\ncompany context - accounting, finance, control, treasury, reserving, and\\r\\nreporting;\\r\\n- Strong financial planning and analytical skills and experience and the\\r\\nability to work closely with and support the CEO and other executives in\\r\\nstrategic development and implementation;\\r\\n- Excellent leadership, management and supervisory track record of\\r\\nattracting, selecting, developing, rewarding and retaining high-caliber,\\r\\naccounting and finance executive and teams who achieve business goals;\\r\\n- An undergraduate degree in finance, business, or other related\\r\\ndiscipline is required. A CPA, CFA, ACCA or other financial\\r\\ncertification is highly preferred, as is a Masters degree in Business\\r\\nAdministration, Accounting or Finance;\\r\\n- Fluency in English, Armenian and Russian with outstanding writing\\r\\nskills;\\r\\n- Excellent analytical, communication, teamwork, interpersonal skills;\\r\\n- Need to be well organized and detail-oriented as well as goal/ result\\r\\ndriven and able to deal with complex issues.\""
      ]
     },
     "execution_count": 4,
     "metadata": {},
     "output_type": "execute_result"
    }
   ],
   "source": [
    "job_requirements[0]"
   ]
  },
  {
   "cell_type": "code",
   "execution_count": 41,
   "metadata": {},
   "outputs": [],
   "source": [
    "# Use Gensim to preprocess each doc"
   ]
  },
  {
   "cell_type": "code",
   "execution_count": 5,
   "metadata": {},
   "outputs": [],
   "source": [
    "processed_jobs = []\n",
    "for job in job_requirements:\n",
    "    tokens = gensim.utils.simple_preprocess(job)\n",
    "    processed_jobs.append(tokens)\n"
   ]
  },
  {
   "cell_type": "code",
   "execution_count": 6,
   "metadata": {},
   "outputs": [
    {
     "data": {
      "text/plain": [
       "(8788885, 13485690)"
      ]
     },
     "execution_count": 6,
     "metadata": {},
     "output_type": "execute_result"
    }
   ],
   "source": [
    "model = gensim.models.Word2Vec(\n",
    "        processed_jobs,\n",
    "        size=150,\n",
    "        window=10,\n",
    "        min_count=2,\n",
    "        workers=3)\n",
    "model.train(processed_jobs, total_examples=len(processed_jobs), epochs=10)"
   ]
  },
  {
   "cell_type": "code",
   "execution_count": 7,
   "metadata": {},
   "outputs": [
    {
     "data": {
      "text/plain": [
       "[('member', 0.6693596243858337),\n",
       " ('worker', 0.542634129524231),\n",
       " ('part', 0.5357521176338196),\n",
       " ('act', 0.5193510055541992),\n",
       " ('appropriately', 0.5007142424583435),\n",
       " ('guide', 0.5004220604896545),\n",
       " ('motivate', 0.49552881717681885),\n",
       " ('members', 0.492866575717926),\n",
       " ('lead', 0.4773019552230835),\n",
       " ('individual', 0.47398796677589417)]"
      ]
     },
     "execution_count": 7,
     "metadata": {},
     "output_type": "execute_result"
    }
   ],
   "source": [
    "w1 = \"leader\"\n",
    "model.wv.most_similar(positive = w1)"
   ]
  },
  {
   "cell_type": "code",
   "execution_count": 9,
   "metadata": {},
   "outputs": [
    {
     "data": {
      "text/plain": [
       "[('proactive', 0.6037420630455017),\n",
       " ('innovative', 0.5682332515716553),\n",
       " ('influential', 0.5181764364242554),\n",
       " ('analytic', 0.5023798942565918),\n",
       " ('creativity', 0.4862079322338104),\n",
       " ('conceptual', 0.4842992126941681),\n",
       " ('forward', 0.4720326364040375),\n",
       " ('outgoing', 0.4706800878047943),\n",
       " ('analytical', 0.4679693877696991),\n",
       " ('persuasive', 0.4638703763484955)]"
      ]
     },
     "execution_count": 9,
     "metadata": {},
     "output_type": "execute_result"
    }
   ],
   "source": [
    "w1 = \"creative\"\n",
    "model.wv.most_similar(positive = w1)"
   ]
  },
  {
   "cell_type": "code",
   "execution_count": 16,
   "metadata": {},
   "outputs": [
    {
     "data": {
      "text/plain": [
       "[('developers', 0.7458773255348206),\n",
       " ('members', 0.5263158082962036),\n",
       " ('group', 0.5235828161239624),\n",
       " ('closely', 0.5190879106521606),\n",
       " ('collaboratively', 0.5004623532295227),\n",
       " ('interact', 0.4970906674861908),\n",
       " ('roadblocks', 0.48179203271865845),\n",
       " ('liaise', 0.4766513705253601),\n",
       " ('communicate', 0.4602963328361511),\n",
       " ('stakeholders', 0.4544546604156494)]"
      ]
     },
     "execution_count": 16,
     "metadata": {},
     "output_type": "execute_result"
    }
   ],
   "source": [
    "w1 = \"collaborate\"\n",
    "model.wv.most_similar(positive = w1)"
   ]
  },
  {
   "cell_type": "code",
   "execution_count": 13,
   "metadata": {},
   "outputs": [
    {
     "data": {
      "text/plain": [
       "[('qualitative', 0.7259106636047363),\n",
       " ('econometric', 0.6138638854026794),\n",
       " ('surveys', 0.6035459637641907),\n",
       " ('statistical', 0.5964557528495789),\n",
       " ('research', 0.5825209617614746),\n",
       " ('spread', 0.5511327385902405),\n",
       " ('collection', 0.5343617796897888),\n",
       " ('analysis', 0.5073949694633484),\n",
       " ('models', 0.4864950478076935),\n",
       " ('analyzing', 0.4845603406429291)]"
      ]
     },
     "execution_count": 13,
     "metadata": {},
     "output_type": "execute_result"
    }
   ],
   "source": [
    "w1 = \"quantitative\"\n",
    "model.wv.most_similar(positive = w1)"
   ]
  },
  {
   "cell_type": "code",
   "execution_count": 15,
   "metadata": {
    "scrolled": true
   },
   "outputs": [
    {
     "data": {
      "text/plain": [
       "[('negotiation', 0.4502134919166565),\n",
       " ('inter', 0.41458484530448914),\n",
       " ('influencing', 0.392049103975296),\n",
       " ('negotiating', 0.3839283883571625),\n",
       " ('leadership', 0.371124267578125),\n",
       " ('interpersonal', 0.3600274920463562),\n",
       " ('skills', 0.35602888464927673),\n",
       " ('listening', 0.34992319345474243),\n",
       " ('organizational', 0.3326420187950134),\n",
       " ('teambuilding', 0.331294447183609)]"
      ]
     },
     "execution_count": 15,
     "metadata": {},
     "output_type": "execute_result"
    }
   ],
   "source": [
    "w1 = \"presentation\"\n",
    "model.wv.most_similar(positive = w1)"
   ]
  },
  {
   "cell_type": "code",
   "execution_count": null,
   "metadata": {},
   "outputs": [],
   "source": []
  }
 ],
 "metadata": {
  "kernelspec": {
   "display_name": "Python 3",
   "language": "python",
   "name": "python3"
  },
  "language_info": {
   "codemirror_mode": {
    "name": "ipython",
    "version": 3
   },
   "file_extension": ".py",
   "mimetype": "text/x-python",
   "name": "python",
   "nbconvert_exporter": "python",
   "pygments_lexer": "ipython3",
   "version": "3.7.0"
  }
 },
 "nbformat": 4,
 "nbformat_minor": 2
}
